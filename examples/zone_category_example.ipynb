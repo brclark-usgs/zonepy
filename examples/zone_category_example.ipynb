{
 "cells": [
  {
   "cell_type": "markdown",
   "metadata": {},
   "source": [
    "### Zonal Category\n",
    "\n",
    "Using an example raster and some semi-randomly placed points, we can calculate the percentage of each raster value (category) within a buffer of each point\n",
    "\n",
    "first, let's import some modules, including zonepy"
   ]
  },
  {
   "cell_type": "code",
   "execution_count": 1,
   "metadata": {
    "collapsed": true
   },
   "outputs": [],
   "source": [
    "import os, sys\n",
    "sys.path.append('../')\n",
    "import zonepy as zp"
   ]
  },
  {
   "cell_type": "markdown",
   "metadata": {},
   "source": [
    "Next, we'll assign variables for the location of our point feature class (and the layer name within the feature class, which in this case is in a geopackage), the raster, and the output filename"
   ]
  },
  {
   "cell_type": "code",
   "execution_count": 2,
   "metadata": {
    "collapsed": true
   },
   "outputs": [],
   "source": [
    "gdb = os.path.join('data', 'zonepy_pts.gpkg')\n",
    "ras = os.path.join('data', 'zone10kmCellNum.tif')\n",
    "lyrName = 'zonepy_pts'\n",
    "filenm = os.path.join('data', 'outputfile')"
   ]
  },
  {
   "cell_type": "markdown",
   "metadata": {},
   "source": [
    "Now we instantiate our class by passing ZoneClass the required variables defined above. In this example, we're using a buffer distance of 100 (meters) and a 'fact' of 30.\n",
    "\n",
    "    fact: int, default 30, Ratio of vector area to raster cell size area Used to resample the raster to a smaller cell size when vector area is much smaller than raster cell size"
   ]
  },
  {
   "cell_type": "code",
   "execution_count": 3,
   "metadata": {
    "collapsed": true
   },
   "outputs": [],
   "source": [
    "zc = zp.ZoneClass(gdb, ras, lyrName=lyrName, fldname=None , \n",
    "              buffDist=100, cmap=None, fact=30, \n",
    "              filenm=filenm)"
   ]
  },
  {
   "cell_type": "markdown",
   "metadata": {},
   "source": [
    "After we have our class instance, called 'zc', we can call the compute_category method to calculate the percentages of each raster cell"
   ]
  },
  {
   "cell_type": "code",
   "execution_count": 4,
   "metadata": {},
   "outputs": [
    {
     "name": "stdout",
     "output_type": "stream",
     "text": [
      "Raster NODATA Value:  0.0\n",
      "Category keys and values: {}\n",
      "7 of 7, staid: 7\n",
      "data/outputfile\n"
     ]
    }
   ],
   "source": [
    "zc.compute_category()"
   ]
  },
  {
   "cell_type": "markdown",
   "metadata": {},
   "source": [
    "While the result exists in the output file named above, we can view the result within the notebook by accessing the dataframe of the class."
   ]
  },
  {
   "cell_type": "code",
   "execution_count": 6,
   "metadata": {},
   "outputs": [
    {
     "data": {
      "text/html": [
       "<div>\n",
       "<style>\n",
       "    .dataframe thead tr:only-child th {\n",
       "        text-align: right;\n",
       "    }\n",
       "\n",
       "    .dataframe thead th {\n",
       "        text-align: left;\n",
       "    }\n",
       "\n",
       "    .dataframe tbody tr th {\n",
       "        vertical-align: top;\n",
       "    }\n",
       "</style>\n",
       "<table border=\"1\" class=\"dataframe\">\n",
       "  <thead>\n",
       "    <tr style=\"text-align: right;\">\n",
       "      <th></th>\n",
       "      <th>uniqueID</th>\n",
       "      <th>26</th>\n",
       "      <th>long</th>\n",
       "      <th>lat</th>\n",
       "      <th>40</th>\n",
       "      <th>37</th>\n",
       "      <th>84</th>\n",
       "      <th>NoData</th>\n",
       "      <th>67</th>\n",
       "      <th>50</th>\n",
       "    </tr>\n",
       "  </thead>\n",
       "  <tbody>\n",
       "    <tr>\n",
       "      <th>0</th>\n",
       "      <td>1</td>\n",
       "      <td>100.0</td>\n",
       "      <td>215226.619958</td>\n",
       "      <td>1.025147e+06</td>\n",
       "      <td>0.0</td>\n",
       "      <td>0.0</td>\n",
       "      <td>0.0</td>\n",
       "      <td>0.000000</td>\n",
       "      <td>0.0</td>\n",
       "      <td>0.000000</td>\n",
       "    </tr>\n",
       "    <tr>\n",
       "      <th>1</th>\n",
       "      <td>2</td>\n",
       "      <td>0.0</td>\n",
       "      <td>243786.619958</td>\n",
       "      <td>1.014563e+06</td>\n",
       "      <td>100.0</td>\n",
       "      <td>0.0</td>\n",
       "      <td>0.0</td>\n",
       "      <td>0.000000</td>\n",
       "      <td>0.0</td>\n",
       "      <td>0.000000</td>\n",
       "    </tr>\n",
       "    <tr>\n",
       "      <th>2</th>\n",
       "      <td>3</td>\n",
       "      <td>0.0</td>\n",
       "      <td>214722.619958</td>\n",
       "      <td>1.009691e+06</td>\n",
       "      <td>0.0</td>\n",
       "      <td>100.0</td>\n",
       "      <td>0.0</td>\n",
       "      <td>0.000000</td>\n",
       "      <td>0.0</td>\n",
       "      <td>0.000000</td>\n",
       "    </tr>\n",
       "    <tr>\n",
       "      <th>3</th>\n",
       "      <td>4</td>\n",
       "      <td>0.0</td>\n",
       "      <td>243618.619958</td>\n",
       "      <td>9.732348e+05</td>\n",
       "      <td>0.0</td>\n",
       "      <td>0.0</td>\n",
       "      <td>100.0</td>\n",
       "      <td>0.000000</td>\n",
       "      <td>0.0</td>\n",
       "      <td>0.000000</td>\n",
       "    </tr>\n",
       "    <tr>\n",
       "      <th>4</th>\n",
       "      <td>5</td>\n",
       "      <td>0.0</td>\n",
       "      <td>223497.887029</td>\n",
       "      <td>9.827003e+05</td>\n",
       "      <td>0.0</td>\n",
       "      <td>0.0</td>\n",
       "      <td>0.0</td>\n",
       "      <td>100.000000</td>\n",
       "      <td>0.0</td>\n",
       "      <td>0.000000</td>\n",
       "    </tr>\n",
       "    <tr>\n",
       "      <th>5</th>\n",
       "      <td>6</td>\n",
       "      <td>0.0</td>\n",
       "      <td>176955.259719</td>\n",
       "      <td>9.871820e+05</td>\n",
       "      <td>0.0</td>\n",
       "      <td>0.0</td>\n",
       "      <td>0.0</td>\n",
       "      <td>0.000000</td>\n",
       "      <td>100.0</td>\n",
       "      <td>0.000000</td>\n",
       "    </tr>\n",
       "    <tr>\n",
       "      <th>6</th>\n",
       "      <td>7</td>\n",
       "      <td>0.0</td>\n",
       "      <td>226961.276151</td>\n",
       "      <td>1.006637e+06</td>\n",
       "      <td>0.0</td>\n",
       "      <td>0.0</td>\n",
       "      <td>0.0</td>\n",
       "      <td>44.444444</td>\n",
       "      <td>0.0</td>\n",
       "      <td>55.555556</td>\n",
       "    </tr>\n",
       "  </tbody>\n",
       "</table>\n",
       "</div>"
      ],
      "text/plain": [
       "   uniqueID     26           long           lat     40     37     84  \\\n",
       "0         1  100.0  215226.619958  1.025147e+06    0.0    0.0    0.0   \n",
       "1         2    0.0  243786.619958  1.014563e+06  100.0    0.0    0.0   \n",
       "2         3    0.0  214722.619958  1.009691e+06    0.0  100.0    0.0   \n",
       "3         4    0.0  243618.619958  9.732348e+05    0.0    0.0  100.0   \n",
       "4         5    0.0  223497.887029  9.827003e+05    0.0    0.0    0.0   \n",
       "5         6    0.0  176955.259719  9.871820e+05    0.0    0.0    0.0   \n",
       "6         7    0.0  226961.276151  1.006637e+06    0.0    0.0    0.0   \n",
       "\n",
       "       NoData     67         50  \n",
       "0    0.000000    0.0   0.000000  \n",
       "1    0.000000    0.0   0.000000  \n",
       "2    0.000000    0.0   0.000000  \n",
       "3    0.000000    0.0   0.000000  \n",
       "4  100.000000    0.0   0.000000  \n",
       "5    0.000000  100.0   0.000000  \n",
       "6   44.444444    0.0  55.555556  "
      ]
     },
     "execution_count": 6,
     "metadata": {},
     "output_type": "execute_result"
    }
   ],
   "source": [
    "zc.df"
   ]
  },
  {
   "cell_type": "code",
   "execution_count": null,
   "metadata": {
    "collapsed": true
   },
   "outputs": [],
   "source": []
  }
 ],
 "metadata": {
  "kernelspec": {
   "display_name": "Python 3",
   "language": "python",
   "name": "python3"
  },
  "language_info": {
   "codemirror_mode": {
    "name": "ipython",
    "version": 3
   },
   "file_extension": ".py",
   "mimetype": "text/x-python",
   "name": "python",
   "nbconvert_exporter": "python",
   "pygments_lexer": "ipython3",
   "version": "3.6.2"
  }
 },
 "nbformat": 4,
 "nbformat_minor": 2
}
