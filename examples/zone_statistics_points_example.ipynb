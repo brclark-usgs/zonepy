{
 "cells": [
  {
   "cell_type": "markdown",
   "metadata": {},
   "source": [
    "### Zonal Statistics Using Points\n",
    "\n",
    "Using an example raster and some semi-randomly placed points, we can calculate the mean (or other statistic) of each raster value within a buffer of each point\n",
    "\n",
    "first, let's import some modules, including zonepy"
   ]
  },
  {
   "cell_type": "code",
   "execution_count": 1,
   "metadata": {},
   "outputs": [],
   "source": [
    "import os, sys\n",
    "sys.path.append('../')\n",
    "import zonepy as zp"
   ]
  },
  {
   "cell_type": "markdown",
   "metadata": {},
   "source": [
    "Next, we'll assign variables for the location of our point feature class (and the layer name within the feature class, which in this case is in a geopackage), the raster, and the output filename"
   ]
  },
  {
   "cell_type": "code",
   "execution_count": 2,
   "metadata": {},
   "outputs": [],
   "source": [
    "gdb = os.path.join('data', 'zonepy_pts.gpkg')\n",
    "ras = os.path.join('data', 'zone10kmCellNum.tif')\n",
    "lyrName = 'zonepy_pts'\n",
    "filenm = os.path.join('data', 'outputfile')"
   ]
  },
  {
   "cell_type": "markdown",
   "metadata": {},
   "source": [
    "Now we instantiate our class by passing ZoneClass the required variables defined above. In this example, we're using a buffer distance of 100 (meters) and a 'fact' of 30.\n",
    "\n",
    "    fact: int, default 30, Ratio of vector area to raster cell size area Used to resample the raster to a smaller cell size when vector area is much smaller than raster cell size"
   ]
  },
  {
   "cell_type": "code",
   "execution_count": 3,
   "metadata": {},
   "outputs": [],
   "source": [
    "zc = zp.ZoneClass(gdb, ras, lyrName=lyrName, fldname=None , \n",
    "              buffDist=100, cmap=None, fact=30, \n",
    "              filenm=filenm, output='csv')"
   ]
  },
  {
   "cell_type": "markdown",
   "metadata": {},
   "source": [
    "After we have our class instance, called 'zc', we can call the compute_stats method to calculate the statistics of each raster cell within the point buffers.\n",
    "\n",
    "Warnings are generated because some points fall within no data areas of the raster."
   ]
  },
  {
   "cell_type": "code",
   "execution_count": 4,
   "metadata": {},
   "outputs": [
    {
     "name": "stdout",
     "output_type": "stream",
     "text": [
      "1 100\n",
      "7 of 7, id: 7\n",
      "data/outputfile\n"
     ]
    },
    {
     "name": "stderr",
     "output_type": "stream",
     "text": [
      "../zonepy/zn.py:559: UserWarning: Warning: converting a masked element to nan.\n",
      "  'min': float(np.ma.masked_invalid(masked).min()),\n",
      "../zonepy/zn.py:560: UserWarning: Warning: converting a masked element to nan.\n",
      "  'mean': float(np.ma.masked_invalid(masked).mean()),\n",
      "../zonepy/zn.py:561: UserWarning: Warning: converting a masked element to nan.\n",
      "  'max': float(np.ma.masked_invalid(masked).max()),\n",
      "../zonepy/zn.py:562: UserWarning: Warning: converting a masked element to nan.\n",
      "  'std': float(np.ma.masked_invalid(masked).std()),\n",
      "../zonepy/zn.py:563: UserWarning: Warning: converting a masked element to nan.\n",
      "  'sum': float(np.ma.masked_invalid(masked).sum()),\n",
      "../zonepy/zn.py:565: UserWarning: Warning: converting a masked element to nan.\n",
      "  'median': float(np.ma.median(np.ma.masked_invalid(masked))),\n",
      "../zonepy/zn.py:583: UserWarning: Warning: converting a masked element to nan.\n",
      "  if np.isnan(float(np.ma.masked_invalid(masked).mean())):\n"
     ]
    }
   ],
   "source": [
    "zc.compute_stats()"
   ]
  },
  {
   "cell_type": "markdown",
   "metadata": {},
   "source": [
    "While the result exists in the output file named above, we can view the result within the notebook by accessing the dataframe of the class."
   ]
  },
  {
   "cell_type": "code",
   "execution_count": 5,
   "metadata": {},
   "outputs": [
    {
     "data": {
      "text/html": [
       "<div>\n",
       "<style scoped>\n",
       "    .dataframe tbody tr th:only-of-type {\n",
       "        vertical-align: middle;\n",
       "    }\n",
       "\n",
       "    .dataframe tbody tr th {\n",
       "        vertical-align: top;\n",
       "    }\n",
       "\n",
       "    .dataframe thead th {\n",
       "        text-align: right;\n",
       "    }\n",
       "</style>\n",
       "<table border=\"1\" class=\"dataframe\">\n",
       "  <thead>\n",
       "    <tr style=\"text-align: right;\">\n",
       "      <th></th>\n",
       "      <th>uniqueID</th>\n",
       "      <th>count</th>\n",
       "      <th>lat</th>\n",
       "      <th>long</th>\n",
       "      <th>max</th>\n",
       "      <th>mean</th>\n",
       "      <th>median</th>\n",
       "      <th>min</th>\n",
       "      <th>std</th>\n",
       "      <th>sum</th>\n",
       "    </tr>\n",
       "  </thead>\n",
       "  <tbody>\n",
       "    <tr>\n",
       "      <th>0</th>\n",
       "      <td>1</td>\n",
       "      <td>43.0</td>\n",
       "      <td>1.025147e+06</td>\n",
       "      <td>215226.619958</td>\n",
       "      <td>26.0</td>\n",
       "      <td>26.0</td>\n",
       "      <td>26.0</td>\n",
       "      <td>26.0</td>\n",
       "      <td>0.0</td>\n",
       "      <td>1118.0</td>\n",
       "    </tr>\n",
       "    <tr>\n",
       "      <th>1</th>\n",
       "      <td>2</td>\n",
       "      <td>43.0</td>\n",
       "      <td>1.014563e+06</td>\n",
       "      <td>243786.619958</td>\n",
       "      <td>40.0</td>\n",
       "      <td>40.0</td>\n",
       "      <td>40.0</td>\n",
       "      <td>40.0</td>\n",
       "      <td>0.0</td>\n",
       "      <td>1720.0</td>\n",
       "    </tr>\n",
       "    <tr>\n",
       "      <th>2</th>\n",
       "      <td>3</td>\n",
       "      <td>44.0</td>\n",
       "      <td>1.009691e+06</td>\n",
       "      <td>214722.619958</td>\n",
       "      <td>37.0</td>\n",
       "      <td>37.0</td>\n",
       "      <td>37.0</td>\n",
       "      <td>37.0</td>\n",
       "      <td>0.0</td>\n",
       "      <td>1628.0</td>\n",
       "    </tr>\n",
       "    <tr>\n",
       "      <th>3</th>\n",
       "      <td>4</td>\n",
       "      <td>43.0</td>\n",
       "      <td>9.732348e+05</td>\n",
       "      <td>243618.619958</td>\n",
       "      <td>84.0</td>\n",
       "      <td>84.0</td>\n",
       "      <td>84.0</td>\n",
       "      <td>84.0</td>\n",
       "      <td>0.0</td>\n",
       "      <td>3612.0</td>\n",
       "    </tr>\n",
       "    <tr>\n",
       "      <th>4</th>\n",
       "      <td>5</td>\n",
       "      <td>NaN</td>\n",
       "      <td>9.827003e+05</td>\n",
       "      <td>223497.887029</td>\n",
       "      <td>NaN</td>\n",
       "      <td>NaN</td>\n",
       "      <td>NaN</td>\n",
       "      <td>NaN</td>\n",
       "      <td>NaN</td>\n",
       "      <td>NaN</td>\n",
       "    </tr>\n",
       "    <tr>\n",
       "      <th>5</th>\n",
       "      <td>6</td>\n",
       "      <td>22.0</td>\n",
       "      <td>9.871820e+05</td>\n",
       "      <td>176955.259719</td>\n",
       "      <td>67.0</td>\n",
       "      <td>67.0</td>\n",
       "      <td>67.0</td>\n",
       "      <td>67.0</td>\n",
       "      <td>0.0</td>\n",
       "      <td>1474.0</td>\n",
       "    </tr>\n",
       "    <tr>\n",
       "      <th>6</th>\n",
       "      <td>7</td>\n",
       "      <td>25.0</td>\n",
       "      <td>1.006637e+06</td>\n",
       "      <td>226961.276151</td>\n",
       "      <td>50.0</td>\n",
       "      <td>50.0</td>\n",
       "      <td>50.0</td>\n",
       "      <td>50.0</td>\n",
       "      <td>0.0</td>\n",
       "      <td>1250.0</td>\n",
       "    </tr>\n",
       "  </tbody>\n",
       "</table>\n",
       "</div>"
      ],
      "text/plain": [
       "   uniqueID  count           lat           long   max  mean  median   min  \\\n",
       "0         1   43.0  1.025147e+06  215226.619958  26.0  26.0    26.0  26.0   \n",
       "1         2   43.0  1.014563e+06  243786.619958  40.0  40.0    40.0  40.0   \n",
       "2         3   44.0  1.009691e+06  214722.619958  37.0  37.0    37.0  37.0   \n",
       "3         4   43.0  9.732348e+05  243618.619958  84.0  84.0    84.0  84.0   \n",
       "4         5    NaN  9.827003e+05  223497.887029   NaN   NaN     NaN   NaN   \n",
       "5         6   22.0  9.871820e+05  176955.259719  67.0  67.0    67.0  67.0   \n",
       "6         7   25.0  1.006637e+06  226961.276151  50.0  50.0    50.0  50.0   \n",
       "\n",
       "   std     sum  \n",
       "0  0.0  1118.0  \n",
       "1  0.0  1720.0  \n",
       "2  0.0  1628.0  \n",
       "3  0.0  3612.0  \n",
       "4  NaN     NaN  \n",
       "5  0.0  1474.0  \n",
       "6  0.0  1250.0  "
      ]
     },
     "execution_count": 5,
     "metadata": {},
     "output_type": "execute_result"
    }
   ],
   "source": [
    "zc.df"
   ]
  },
  {
   "cell_type": "code",
   "execution_count": null,
   "metadata": {},
   "outputs": [],
   "source": []
  }
 ],
 "metadata": {
  "kernelspec": {
   "display_name": "Python 3",
   "language": "python",
   "name": "python3"
  },
  "language_info": {
   "codemirror_mode": {
    "name": "ipython",
    "version": 3
   },
   "file_extension": ".py",
   "mimetype": "text/x-python",
   "name": "python",
   "nbconvert_exporter": "python",
   "pygments_lexer": "ipython3",
   "version": "3.6.4"
  }
 },
 "nbformat": 4,
 "nbformat_minor": 2
}
