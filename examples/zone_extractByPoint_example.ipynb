{
 "cells": [
  {
   "cell_type": "markdown",
   "metadata": {},
   "source": [
    "### Zonal Extract By Point\n",
    "\n",
    "Using an example raster and some semi-randomly placed points, we can extract the value of each raster cells at each point.\n",
    "\n",
    "first, let's import some modules, including zonepy"
   ]
  },
  {
   "cell_type": "code",
   "execution_count": 1,
   "metadata": {},
   "outputs": [],
   "source": [
    "import os, sys\n",
    "sys.path.append('../')\n",
    "import zonepy as zp"
   ]
  },
  {
   "cell_type": "markdown",
   "metadata": {},
   "source": [
    "Next, we'll assign variables for the location of our point feature class (and the layer name within the feature class, which in this case is in a geopackage), the raster, and the output filename"
   ]
  },
  {
   "cell_type": "code",
   "execution_count": 2,
   "metadata": {},
   "outputs": [],
   "source": [
    "gdb = 'zonepy_pts.gpkg'\n",
    "ras = 'zone10kmCellNum.tif'\n",
    "lyrName = 'zonepy_pts'\n",
    "filenm = 'outputfile'"
   ]
  },
  {
   "cell_type": "markdown",
   "metadata": {},
   "source": [
    "Now we instantiate our class by passing ZoneClass the required variables defined above."
   ]
  },
  {
   "cell_type": "code",
   "execution_count": 3,
   "metadata": {},
   "outputs": [],
   "source": [
    "zc = zp.ZoneClass(gdb, ras, lyrName=lyrName, fldname=None ,  \n",
    "              filenm=filenm, output='csv')"
   ]
  },
  {
   "cell_type": "markdown",
   "metadata": {},
   "source": [
    "After we have our class instance, called 'zc', we can call the extractByPoint() method to obtain the value of each raster cell for each point."
   ]
  },
  {
   "cell_type": "code",
   "execution_count": 4,
   "metadata": {},
   "outputs": [
    {
     "name": "stdout",
     "output_type": "stream",
     "text": [
      "\n",
      "/home/fluidmotion/gitrepos/zonepy/examples/outputfile\n"
     ]
    }
   ],
   "source": [
    "zc.extractByPoint()"
   ]
  },
  {
   "cell_type": "markdown",
   "metadata": {},
   "source": [
    "Currently, the results are written to a new column in the input feature class. We can view the result within the notebook by accessing the dictionary of results from the class.\n",
    "\n",
    "NOTE: the results can only be written to feature class containers that are editable by GDAL - FileGDBs will typically not work."
   ]
  },
  {
   "cell_type": "code",
   "execution_count": 7,
   "metadata": {},
   "outputs": [
    {
     "data": {
      "text/html": [
       "<div>\n",
       "<style scoped>\n",
       "    .dataframe tbody tr th:only-of-type {\n",
       "        vertical-align: middle;\n",
       "    }\n",
       "\n",
       "    .dataframe tbody tr th {\n",
       "        vertical-align: top;\n",
       "    }\n",
       "\n",
       "    .dataframe thead th {\n",
       "        text-align: right;\n",
       "    }\n",
       "</style>\n",
       "<table border=\"1\" class=\"dataframe\">\n",
       "  <thead>\n",
       "    <tr style=\"text-align: right;\">\n",
       "      <th></th>\n",
       "      <th>uniqueID</th>\n",
       "      <th>value</th>\n",
       "      <th>long</th>\n",
       "      <th>lat</th>\n",
       "    </tr>\n",
       "  </thead>\n",
       "  <tbody>\n",
       "    <tr>\n",
       "      <th>0</th>\n",
       "      <td>1</td>\n",
       "      <td>26.0</td>\n",
       "      <td>215226.619958</td>\n",
       "      <td>1.025147e+06</td>\n",
       "    </tr>\n",
       "    <tr>\n",
       "      <th>1</th>\n",
       "      <td>2</td>\n",
       "      <td>40.0</td>\n",
       "      <td>243786.619958</td>\n",
       "      <td>1.014563e+06</td>\n",
       "    </tr>\n",
       "    <tr>\n",
       "      <th>2</th>\n",
       "      <td>3</td>\n",
       "      <td>37.0</td>\n",
       "      <td>214722.619958</td>\n",
       "      <td>1.009691e+06</td>\n",
       "    </tr>\n",
       "    <tr>\n",
       "      <th>3</th>\n",
       "      <td>4</td>\n",
       "      <td>84.0</td>\n",
       "      <td>243618.619958</td>\n",
       "      <td>9.732348e+05</td>\n",
       "    </tr>\n",
       "    <tr>\n",
       "      <th>4</th>\n",
       "      <td>5</td>\n",
       "      <td>0.0</td>\n",
       "      <td>223497.887029</td>\n",
       "      <td>9.827003e+05</td>\n",
       "    </tr>\n",
       "    <tr>\n",
       "      <th>5</th>\n",
       "      <td>6</td>\n",
       "      <td>67.0</td>\n",
       "      <td>176955.259719</td>\n",
       "      <td>9.871820e+05</td>\n",
       "    </tr>\n",
       "    <tr>\n",
       "      <th>6</th>\n",
       "      <td>7</td>\n",
       "      <td>50.0</td>\n",
       "      <td>226961.276151</td>\n",
       "      <td>1.006637e+06</td>\n",
       "    </tr>\n",
       "  </tbody>\n",
       "</table>\n",
       "</div>"
      ],
      "text/plain": [
       "   uniqueID  value           long           lat\n",
       "0         1   26.0  215226.619958  1.025147e+06\n",
       "1         2   40.0  243786.619958  1.014563e+06\n",
       "2         3   37.0  214722.619958  1.009691e+06\n",
       "3         4   84.0  243618.619958  9.732348e+05\n",
       "4         5    0.0  223497.887029  9.827003e+05\n",
       "5         6   67.0  176955.259719  9.871820e+05\n",
       "6         7   50.0  226961.276151  1.006637e+06"
      ]
     },
     "execution_count": 7,
     "metadata": {},
     "output_type": "execute_result"
    }
   ],
   "source": [
    "zc.df"
   ]
  },
  {
   "cell_type": "code",
   "execution_count": null,
   "metadata": {
    "collapsed": true
   },
   "outputs": [],
   "source": []
  }
 ],
 "metadata": {
  "kernelspec": {
   "display_name": "Python 3",
   "language": "python",
   "name": "python3"
  },
  "language_info": {
   "codemirror_mode": {
    "name": "ipython",
    "version": 3
   },
   "file_extension": ".py",
   "mimetype": "text/x-python",
   "name": "python",
   "nbconvert_exporter": "python",
   "pygments_lexer": "ipython3",
   "version": "3.6.4"
  }
 },
 "nbformat": 4,
 "nbformat_minor": 2
}
