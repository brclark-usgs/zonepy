{
 "cells": [
  {
   "cell_type": "markdown",
   "metadata": {},
   "source": [
    "### Zonal Make Raster\n",
    "\n",
    "Using the output from zone_statistics__poly_example.ipynb and a matching polygon grid, we can create a new raster with the new cell values\n",
    "\n",
    "first, let's import some modules, including zonepy"
   ]
  },
  {
   "cell_type": "code",
   "execution_count": 1,
   "metadata": {},
   "outputs": [],
   "source": [
    "import os, sys\n",
    "sys.path.append('../')\n",
    "import zonepy as zp"
   ]
  },
  {
   "cell_type": "markdown",
   "metadata": {},
   "source": [
    "Next, we'll assign variables for the location of our point feature class (and the layer name within the feature class, which in this case is in a geopackage), the raster, and the output filename"
   ]
  },
  {
   "cell_type": "code",
   "execution_count": 2,
   "metadata": {},
   "outputs": [],
   "source": [
    "gdb = os.path.join('data', 'zone10km.gpkg')\n",
    "ras = os.path.join('data', 'zone10kmCellNum.tif')\n",
    "lyrName = 'modelgrid'\n",
    "inputfile = os.path.join('data', 'outputfilepoly.csv')\n",
    "outTiff = os.path.join('data', 'statRaster.tif')"
   ]
  },
  {
   "cell_type": "markdown",
   "metadata": {},
   "source": [
    "Now we instantiate our class by passing ZoneClass the required variables defined above."
   ]
  },
  {
   "cell_type": "code",
   "execution_count": 3,
   "metadata": {},
   "outputs": [],
   "source": [
    "zc = zp.ZoneClass(gdb, ras, lyrName=lyrName, fldname=None , \n",
    "              buffDist=0, cmap=None, fact=30, \n",
    "              filenm=None, output='csv')"
   ]
  },
  {
   "cell_type": "code",
   "execution_count": 4,
   "metadata": {},
   "outputs": [
    {
     "name": "stdout",
     "output_type": "stream",
     "text": [
      "writing tiff...\n"
     ]
    }
   ],
   "source": [
    "zc.writeRaster(outTiff=outTiff, inputfile=inputfile)"
   ]
  },
  {
   "cell_type": "code",
   "execution_count": 5,
   "metadata": {},
   "outputs": [
    {
     "data": {
      "image/png": "[encoded data removed]",
      "text/plain": [
       "<matplotlib.figure.Figure at 0x7f5c9c4797f0>"
      ]
     },
     "metadata": {},
     "output_type": "display_data"
    }
   ],
   "source": [
    "from osgeo import gdal\n",
    "import matplotlib.pyplot as plt\n",
    "%matplotlib inline\n",
    "\n",
    "r = gdal.Open(outTiff)\n",
    "b = r.GetRasterBand(1).ReadAsArray()\n",
    "plt.imshow(b)\n",
    "plt.colorbar()\n",
    "plt.show()"
   ]
  },
  {
   "cell_type": "code",
   "execution_count": null,
   "metadata": {},
   "outputs": [],
   "source": []
  }
 ],
 "metadata": {
  "kernelspec": {
   "display_name": "Python 3",
   "language": "python",
   "name": "python3"
  },
  "language_info": {
   "codemirror_mode": {
    "name": "ipython",
    "version": 3
   },
   "file_extension": ".py",
   "mimetype": "text/x-python",
   "name": "python",
   "nbconvert_exporter": "python",
   "pygments_lexer": "ipython3",
   "version": "3.6.4"
  }
 },
 "nbformat": 4,
 "nbformat_minor": 2
}
