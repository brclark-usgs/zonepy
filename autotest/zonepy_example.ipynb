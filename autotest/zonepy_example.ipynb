{
 "cells": [
  {
   "cell_type": "code",
   "execution_count": 1,
   "metadata": {},
   "outputs": [],
   "source": [
    "import os, sys\n",
    "import numpy as np\n",
    "sys.path.append('../')\n",
    "import zonepy as zp"
   ]
  },
  {
   "cell_type": "code",
   "execution_count": 2,
   "metadata": {},
   "outputs": [],
   "source": [
    "gdb = os.path.join('..', 'examples', 'zonepy_pts.gpkg')\n",
    "ras = os.path.join('..', 'examples','zone10kmCellNum.tif')\n",
    "lyrName = 'zonepy_pts'\n",
    "filenm = os.path.join('..', 'examples', 'outputfile')"
   ]
  },
  {
   "cell_type": "code",
   "execution_count": 3,
   "metadata": {},
   "outputs": [],
   "source": [
    "zc = zp.zonal.ZoneClass(gdb, ras, lyrName=lyrName, fldname=None , \n",
    "              projIn=None, projOut=None, buffDist=100, cmap=None, fact=30, \n",
    "              filenm=filenm, csvout=True)"
   ]
  },
  {
   "cell_type": "code",
   "execution_count": 4,
   "metadata": {},
   "outputs": [
    {
     "name": "stdout",
     "output_type": "stream",
     "text": [
      "Raster NODATA Value:  0.0\n",
      "Category keys and values: {}\n",
      "7 of 7, staid: 7\n",
      "../examples/outputfile\n"
     ]
    }
   ],
   "source": [
    "zc.compute_category()"
   ]
  },
  {
   "cell_type": "code",
   "execution_count": null,
   "metadata": {},
   "outputs": [],
   "source": []
  }
 ],
 "metadata": {
  "kernelspec": {
   "display_name": "Python 3",
   "language": "python",
   "name": "python3"
  },
  "language_info": {
   "codemirror_mode": {
    "name": "ipython",
    "version": 3
   },
   "file_extension": ".py",
   "mimetype": "text/x-python",
   "name": "python",
   "nbconvert_exporter": "python",
   "pygments_lexer": "ipython3",
   "version": "3.6.4"
  }
 },
 "nbformat": 4,
 "nbformat_minor": 2
}
